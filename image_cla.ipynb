{
 "cells": [
  {
   "cell_type": "code",
   "execution_count": 4,
   "metadata": {
    "collapsed": true
   },
   "outputs": [],
   "source": [
    "from sklearn.neighbors import KNeighborsClassifier\n",
    "from sklearn.naive_bayes import GaussianNB\n",
    "from sklearn.linear_model import LogisticRegression\n",
    "from sklearn.svm import SVC\n",
    "from sklearn.tree import DecisionTreeClassifier\n",
    "from sklearn.ensemble import RandomForestClassifier\n",
    "from sklearn.neural_network import MLPClassifier\n",
    "from sklearn.preprocessing import LabelEncoder\n",
    "from sklearn.model_selection import train_test_split\n",
    "from sklearn.metrics import classification_report\n",
    "from PIL import Image\n",
    "from imutils import paths\n",
    "import numpy as np\n",
    "import argparse\n",
    "import os"
   ]
  },
  {
   "cell_type": "code",
   "execution_count": 5,
   "metadata": {
    "collapsed": true
   },
   "outputs": [],
   "source": [
    "def extract_color_stats(image):\n",
    "    (R, G, B) = image.split()\n",
    "    features = [np.mean(R), np.mean(G), np.mean(B), np.std(R),np.std(G), np.std(B)]\n",
    "\n",
    "# return our set of features\n",
    "    return features"
   ]
  },
  {
   "cell_type": "code",
   "execution_count": 28,
   "metadata": {
    "collapsed": true
   },
   "outputs": [],
   "source": [
    "models = {\n",
    "    \"knn\": KNeighborsClassifier(n_neighbors=1),\n",
    "    \"naive_bayes\": GaussianNB(),\n",
    "    \"logit\": LogisticRegression(solver=\"lbfgs\", multi_class=\"auto\"),\n",
    "    \"svm\": SVC(kernel=\"linear\"),\n",
    "    \"decision_tree\": DecisionTreeClassifier(),\n",
    "    \"random_forest\": RandomForestClassifier(n_estimators=100),\n",
    "    \"mlp\": MLPClassifier()\n",
    "    }"
   ]
  },
  {
   "cell_type": "code",
   "execution_count": 2,
   "metadata": {},
   "outputs": [
    {
     "name": "stdout",
     "output_type": "stream",
     "text": [
      "[INFO] extracting image features...\n"
     ]
    }
   ],
   "source": [
    "print(\"[INFO] extracting image features...\")\n",
    "import glob\n",
    "imagePaths = glob.glob(\"C:/Users/Aniket/Desktop/New folder/python-machine-learning/3scenes/coast/*\")\n",
    "\n",
    "\n",
    "data = []\n",
    "labels = []\n",
    "for imagePath in imagePaths:\n",
    "# load the input image from disk, compute color channel\n",
    "# statistics, and then update our data list\n",
    "    image = Image.open(imagePath)\n",
    "    features = extract_color_stats(image)\n",
    "    data.append(features)\n",
    "\n",
    "# extract the class label from the file path and update the\n",
    "# labels list\n",
    "    label = imagePath.split(os.path.sep)[-1]\n",
    "    labels.append(label)\n",
    "\n",
    "# encode the labels, converting them from strings to integers\n",
    "le = LabelEncoder()\n",
    "labels = le.fit_transform(labels)\n",
    "\n",
    "# perform a training and testing split, using 75% of the data for\n",
    "# training and 25% for evaluation\n",
    "(trainX, testX, trainY, testY) = train_test_split(data, labels,test_size=0.33, random_state=42)\n",
    "\n",
    "# train the model\n",
    "from sklearn.neighbors import KNeighborsClassifier\n",
    "\n",
    "# instantiate learning model (k = 30)\n",
    "knn = KNeighborsClassifier(n_neighbors=30)\n",
    "\n",
    "# fitting the model\n",
    "knn.fit(trainX, trainY)\n",
    "\n",
    "# make predictions on our data and show a classification report\n",
    "print(\"[INFO] evaluating...\")\n",
    "predictions = knn.predict(testX)\n",
    "print(classification_report(testY, predictions,\n",
    "    target_names=le.classes_))\n",
    "\n",
    "\n",
    "\n",
    "import seaborn as sb\n",
    "import matplotlib.pyplot as plt\n",
    "plt.plot(testY,predictions)\n",
    "plt.show()\n",
    "\n",
    "#print data[3]\n",
    "print labels"
   ]
  },
  {
   "cell_type": "code",
   "execution_count": 16,
   "metadata": {
    "collapsed": true
   },
   "outputs": [],
   "source": [
    "import glob\n",
    "imagePaths = glob.glob(\"C:/Users/Aniket/Desktop/jpg/*\")\n",
    "data = []\n",
    "labels = []\n",
    "l=[]\n",
    "for imagePath in imagePaths:\n",
    "    b={}\n",
    "    image = Image.open(imagePath)\n",
    "    features = extract_color_stats(image)\n",
    "    b['f1']= features[0]\n",
    "    b['f2']= features[1]\n",
    "    b['f3']= features[2]\n",
    "    b['f4']= features[3]\n",
    "    b['f5']= features[4]\n",
    "    b['f6']= features[5]\n",
    "    \n",
    "    data.append(features)\n",
    "\n",
    "# extract the class label from the file path and update the\n",
    "# labels list\n",
    "    label = imagePath.split(os.path.sep)[-1]\n",
    "    b['label']= label\n",
    "    labels.append(label)\n",
    "    \n",
    "    l.append(b)\n",
    "# encode the labels, converting them from strings to integers\n",
    "le = LabelEncoder()\n",
    "labels = le.fit_transform(labels)\n",
    "\n"
   ]
  },
  {
   "cell_type": "code",
   "execution_count": 18,
   "metadata": {},
   "outputs": [
    {
     "name": "stdout",
     "output_type": "stream",
     "text": [
      "              f1          f2          f3         f4         f5         f6  \\\n",
      "0     105.835754  115.290979  107.254294  57.521601  48.046751  50.967711   \n",
      "1     153.586649  142.331051  118.780871  70.054591  67.187968  63.072567   \n",
      "2      97.697045  127.784048  155.593351  30.178242  33.152066  39.979864   \n",
      "3      72.314760   86.057341  104.658220  45.285544  49.755583  53.140008   \n",
      "4     156.223893  160.034800  166.945488  47.985966  50.420138  53.044818   \n",
      "5     156.710275  165.349339  174.296487  35.575630  36.494449  40.167852   \n",
      "6     180.140347  179.960057  184.517528  38.568949  40.703154  43.698330   \n",
      "7     105.618506  133.440341  153.857178  55.873979  42.039116  48.066909   \n",
      "8      78.102737  131.722677  171.841192  33.548127  37.694538  36.362434   \n",
      "9      97.539655   90.872087   50.739176  64.134634  56.198768  48.220389   \n",
      "10    169.194412  177.565745  172.798029  47.182674  51.244771  55.002817   \n",
      "11    168.380658  173.090797  169.925095  35.613740  37.906330  40.390157   \n",
      "12    127.376878  146.164081  171.394520  45.550738  40.040219  38.657474   \n",
      "13     96.275778  117.446992  144.442055  47.064067  46.104227  55.305917   \n",
      "14     65.328207   86.053207  106.082523  38.811439  34.812319  42.183238   \n",
      "15     67.991703   87.340457  105.992623  38.160215  33.690287  40.427780   \n",
      "16    133.299499  160.804909  194.791434  32.249163  40.155882  50.061604   \n",
      "17    157.547376  155.860490  159.857025  53.047341  56.629224  63.209729   \n",
      "18    140.345003  145.527397  125.601856  56.308831  55.713539  60.963271   \n",
      "19    122.486992  136.331915  158.809419  45.455187  53.613408  59.903469   \n",
      "20     82.953003   74.745396   56.904312  50.408472  46.140243  46.787924   \n",
      "21    103.360983  146.369632  200.327695  30.431912  32.784532  42.070780   \n",
      "22    110.735445  117.261461   87.538704  57.234447  56.993277  52.333607   \n",
      "23    112.926028  140.161846  167.771972  46.813992  47.759609  57.719489   \n",
      "24    141.114160  149.123525  105.742261  45.923937  47.849923  40.872481   \n",
      "25    133.492213  140.535312  102.852405  45.813953  44.261018  40.077986   \n",
      "26     75.047342  104.955649  135.506039  37.423283  42.052233  54.469407   \n",
      "27     62.448161   85.005218  102.847069  48.499762  39.401717  44.059101   \n",
      "28    182.658981  182.084880  182.151963  37.641270  37.289746  39.567739   \n",
      "29    167.121559  168.702994  180.438128  46.727208  47.159731  50.716058   \n",
      "...          ...         ...         ...        ...        ...        ...   \n",
      "4099  118.106971   97.974585   82.796123  28.968646  42.726129  39.047234   \n",
      "4100  130.934308  126.590405   70.034090  52.159990  55.614996  52.707803   \n",
      "4101  117.606394   94.215709  133.349412  64.660036  57.629030  79.238403   \n",
      "4102  130.262147  112.757580   89.177051  51.878902  45.866481  65.018022   \n",
      "4103   99.194271  114.052222   51.750812  58.288835  63.364351  45.720975   \n",
      "4104   56.049406   79.677574   49.471538  43.497244  31.220642  28.540712   \n",
      "4105   82.019209   78.443962   91.038584  55.850934  56.551743  65.740624   \n",
      "4106  108.325473  120.833579   58.003051  51.719425  54.020264  28.504646   \n",
      "4107   57.124076   68.792159   37.872805  66.701120  65.479760  67.181113   \n",
      "4108  113.662532  108.418021   88.890748  59.186093  62.143231  57.343886   \n",
      "4109  126.271544  123.163559   90.171835  51.211758  53.344528  67.936803   \n",
      "4110   91.524635  117.301697   96.615097  54.190643  51.619522  60.760767   \n",
      "4111  184.445372  141.139880  182.747991  41.702554  66.018821  49.061886   \n",
      "4112   94.006899   92.082928   95.008055  73.079359  74.006158  61.657319   \n",
      "4113  120.160238   93.859083  121.581336  60.885701  44.333341  87.185453   \n",
      "4114   78.087672   92.619656   84.255336  48.512951  43.140357  70.852587   \n",
      "4115   97.815360   98.578529   78.262435  53.072082  45.806967  78.460546   \n",
      "4116   61.229857   64.343889   26.181386  65.602986  67.525464  45.609446   \n",
      "4117   86.058626   91.404173   59.875387  65.219711  60.027384  58.505798   \n",
      "4118   96.334162   93.131515   58.336197  65.994394  63.617651  58.276347   \n",
      "4119  147.283176  142.760191  132.535936  51.269276  56.998186  56.214039   \n",
      "4120  101.682292  112.696659   81.175909  45.430361  46.543879  52.759504   \n",
      "4121   82.464267   89.657010   49.357979  66.146569  65.676854  62.044290   \n",
      "4122   78.858277   80.835761   85.036140  63.062892  49.351142  66.510663   \n",
      "4123  116.738937  103.217084  100.898832  57.401939  64.695131  63.620029   \n",
      "4124   86.806074   67.585221   74.102456  62.907292  56.015980  61.097746   \n",
      "4125   59.726559   63.015574   30.108847  71.989110  69.016676  55.720473   \n",
      "4126  136.948165  126.332450  111.460815  39.131286  42.200440  52.216222   \n",
      "4127  109.052889  121.718030  113.668360  40.803476  56.483283  57.077514   \n",
      "4128  102.236482   99.728835   75.774879  47.164915  54.927433  48.018911   \n",
      "\n",
      "                label  \n",
      "0     image_00001.jpg  \n",
      "1     image_00002.jpg  \n",
      "2     image_00003.jpg  \n",
      "3     image_00004.jpg  \n",
      "4     image_00005.jpg  \n",
      "5     image_00006.jpg  \n",
      "6     image_00007.jpg  \n",
      "7     image_00008.jpg  \n",
      "8     image_00009.jpg  \n",
      "9      image_0001.jpg  \n",
      "10    image_00010.jpg  \n",
      "11    image_00011.jpg  \n",
      "12    image_00012.jpg  \n",
      "13    image_00013.jpg  \n",
      "14    image_00014.jpg  \n",
      "15    image_00015.jpg  \n",
      "16    image_00016.jpg  \n",
      "17    image_00017.jpg  \n",
      "18    image_00018.jpg  \n",
      "19    image_00019.jpg  \n",
      "20     image_0002.jpg  \n",
      "21    image_00020.jpg  \n",
      "22    image_00021.jpg  \n",
      "23    image_00022.jpg  \n",
      "24    image_00023.jpg  \n",
      "25    image_00024.jpg  \n",
      "26    image_00025.jpg  \n",
      "27    image_00026.jpg  \n",
      "28    image_00027.jpg  \n",
      "29    image_00028.jpg  \n",
      "...               ...  \n",
      "4099   image_1331.jpg  \n",
      "4100   image_1332.jpg  \n",
      "4101   image_1333.jpg  \n",
      "4102   image_1334.jpg  \n",
      "4103   image_1335.jpg  \n",
      "4104   image_1336.jpg  \n",
      "4105   image_1337.jpg  \n",
      "4106   image_1338.jpg  \n",
      "4107   image_1339.jpg  \n",
      "4108   image_1340.jpg  \n",
      "4109   image_1341.jpg  \n",
      "4110   image_1342.jpg  \n",
      "4111   image_1343.jpg  \n",
      "4112   image_1344.jpg  \n",
      "4113   image_1345.jpg  \n",
      "4114   image_1346.jpg  \n",
      "4115   image_1347.jpg  \n",
      "4116   image_1348.jpg  \n",
      "4117   image_1349.jpg  \n",
      "4118   image_1350.jpg  \n",
      "4119   image_1351.jpg  \n",
      "4120   image_1352.jpg  \n",
      "4121   image_1353.jpg  \n",
      "4122   image_1354.jpg  \n",
      "4123   image_1355.jpg  \n",
      "4124   image_1356.jpg  \n",
      "4125   image_1357.jpg  \n",
      "4126   image_1358.jpg  \n",
      "4127   image_1359.jpg  \n",
      "4128   image_1360.jpg  \n",
      "\n",
      "[4129 rows x 7 columns]\n"
     ]
    }
   ],
   "source": [
    "import pandas as pd\n",
    "df=pd.DataFrame(l)\n",
    "print df\n",
    "df.to_csv('output.csv')"
   ]
  },
  {
   "cell_type": "code",
   "execution_count": 20,
   "metadata": {},
   "outputs": [
    {
     "name": "stdout",
     "output_type": "stream",
     "text": [
      "0.0\n",
      "[522]\n"
     ]
    }
   ],
   "source": [
    "X_train, X_test, y_train, y_test = train_test_split(data, labels, test_size=0.33, random_state=42)\n",
    "\n",
    "# loading library\n",
    "from sklearn.neighbors import KNeighborsClassifier\n",
    "\n",
    "# instantiate learning model (k = 3)\n",
    "knn = KNeighborsClassifier(n_neighbors=3)\n",
    "\n",
    "# fitting the model\n",
    "knn.fit(X_train, y_train)\n",
    "\n",
    "# predict the response\n",
    "pred = knn.predict(X_test)\n",
    "\n",
    "# evaluate accuracy\n",
    "from sklearn.metrics import accuracy_score\n",
    "print(accuracy_score(y_test, pred))\n",
    "\n",
    "li = [6.30,2.50,5.0,1.9,250,650]\n",
    "\n",
    "x = np.array(li)\n",
    "pred = knn.predict([x])\n",
    "print(pred)"
   ]
  },
  {
   "cell_type": "code",
   "execution_count": 8,
   "metadata": {},
   "outputs": [
    {
     "data": {
      "text/plain": [
       "[107.8021,\n",
       " 88.552875,\n",
       " 49.981050000000003,\n",
       " 71.823263192297247,\n",
       " 63.042321532716215,\n",
       " 39.817903522128077]"
      ]
     },
     "execution_count": 8,
     "metadata": {},
     "output_type": "execute_result"
    }
   ],
   "source": [
    "from PIL import Image\n",
    "import numpy as np\n",
    "imagePath= \"C:/Users/Aniket/Desktop/ani/0.jpg\"\n",
    "image = Image.open(imagePath)\n",
    "features = extract_color_stats(image)\n",
    "features"
   ]
  },
  {
   "cell_type": "code",
   "execution_count": null,
   "metadata": {
    "collapsed": true
   },
   "outputs": [],
   "source": []
  }
 ],
 "metadata": {
  "kernelspec": {
   "display_name": "Python 2",
   "language": "python",
   "name": "python2"
  },
  "language_info": {
   "codemirror_mode": {
    "name": "ipython",
    "version": 2
   },
   "file_extension": ".py",
   "mimetype": "text/x-python",
   "name": "python",
   "nbconvert_exporter": "python",
   "pygments_lexer": "ipython2",
   "version": "2.7.13"
  }
 },
 "nbformat": 4,
 "nbformat_minor": 2
}
